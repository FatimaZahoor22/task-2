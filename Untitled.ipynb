{
 "cells": [
  {
   "cell_type": "code",
   "execution_count": 1,
   "id": "6dd65d6a-59e8-48d1-9efc-1558adfab98c",
   "metadata": {},
   "outputs": [
    {
     "name": "stdout",
     "output_type": "stream",
     "text": [
      "0\n",
      "1\n",
      "2\n",
      "3\n",
      "4\n",
      "5\n",
      "Finally finished!\n"
     ]
    }
   ],
   "source": [
    "for x in range(6):\n",
    "    print(x)\n",
    "else:\n",
    "    print(\"Finally finished!\")"
   ]
  },
  {
   "cell_type": "code",
   "execution_count": 3,
   "id": "a2f66b07-eec3-43ca-8099-e32970d3d6c3",
   "metadata": {},
   "outputs": [
    {
     "name": "stdout",
     "output_type": "stream",
     "text": [
      "1 1\n",
      "1 2\n",
      "1 3\n",
      "2 1\n",
      "2 2\n",
      "2 3\n",
      "3 1\n",
      "3 2\n",
      "3 3\n"
     ]
    }
   ],
   "source": [
    "for i in range(1,4):\n",
    "    for j in range(1,4):\n",
    "        print(i,j)"
   ]
  },
  {
   "cell_type": "code",
   "execution_count": 5,
   "id": "427aaa01-dfda-4d6f-944e-a378b989f23a",
   "metadata": {},
   "outputs": [
    {
     "name": "stdout",
     "output_type": "stream",
     "text": [
      "Day1:Run 3.000000 miles\n",
      "Day2:Run 3.500000 miles\n",
      "Day3:Run 4.000000 miles\n",
      "Day4:Run 4.500000 miles\n",
      "Day5:Run 5.000000 miles\n",
      "Day6:Run 5.500000 miles\n",
      "Day7:Run 6.000000 miles\n"
     ]
    }
   ],
   "source": [
    "for i in range(1,8):\n",
    "    d = 3 + (i-1) * 0.5\n",
    "    print(f\"Day{i}:Run {d:1f} miles\")\n",
    "\n"
   ]
  },
  {
   "cell_type": "code",
   "execution_count": 16,
   "id": "c2915c34-4fb6-4ec3-bde1-5c1c6ba605e6",
   "metadata": {},
   "outputs": [
    {
     "name": "stdout",
     "output_type": "stream",
     "text": [
      "Ticket price is $12.\n"
     ]
    }
   ],
   "source": [
    "age = 30\n",
    "member = True\n",
    "if age > 18:\n",
    "    if member:\n",
    "        print(\"Ticket price is $12.\")\n",
    "    else:\n",
    "        print(\"Ticket price is $20.\")\n",
    "else:\n",
    "    if member:\n",
    "        print(\"Ticket price is $8.\")\n",
    "    else:\n",
    "        print(\"Ticket price is $10.\")\n",
    "\n"
   ]
  },
  {
   "cell_type": "markdown",
   "id": "47008723-66ff-4660-a279-209fd50b240c",
   "metadata": {},
   "source": [
    "\n",
    "    \n",
    "\n",
    "\n",
    "  \n",
    " "
   ]
  },
  {
   "cell_type": "code",
   "execution_count": 19,
   "id": "3f2bc9fd-47be-4d57-8d01-edf6f0726974",
   "metadata": {},
   "outputs": [
    {
     "name": "stdout",
     "output_type": "stream",
     "text": [
      "You are an adult.\n",
      "Excellent work!\n"
     ]
    }
   ],
   "source": [
    "age = 18\n",
    "grade = \"A\"\n",
    "if age >= 18:\n",
    "    print(\"You are an adult.\")\n",
    "    if grade == \"A\":\n",
    "        print(\"Excellent work!\")\n",
    "    else:\n",
    "        print(\"Keep trying your best.\")\n",
    "else:\n",
    "    print(\"You are a minor.\")\n"
   ]
  },
  {
   "cell_type": "code",
   "execution_count": null,
   "id": "8b56e2b5-9942-4f57-8975-edc7766d54bd",
   "metadata": {},
   "outputs": [],
   "source": [
    "number = 25\n",
    "if number > 0:\n",
    "    print(\"Positive number\")\n",
    "    if number < 100:\n",
    "        print(\"Less than 100\")\n",
    "else:\n",
    "    print(\"Non- po"
   ]
  },
  {
   "cell_type": "code",
   "execution_count": null,
   "id": "b6647f0b-2ad2-4bc9-a8db-052a237ee106",
   "metadata": {},
   "outputs": [],
   "source": []
  }
 ],
 "metadata": {
  "kernelspec": {
   "display_name": "Python 3 (ipykernel)",
   "language": "python",
   "name": "python3"
  },
  "language_info": {
   "codemirror_mode": {
    "name": "ipython",
    "version": 3
   },
   "file_extension": ".py",
   "mimetype": "text/x-python",
   "name": "python",
   "nbconvert_exporter": "python",
   "pygments_lexer": "ipython3",
   "version": "3.13.3"
  }
 },
 "nbformat": 4,
 "nbformat_minor": 5
}
